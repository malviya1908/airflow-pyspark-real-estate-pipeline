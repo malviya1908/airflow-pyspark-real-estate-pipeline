{
 "cells": [
  {
   "cell_type": "code",
   "execution_count": 7,
   "id": "b232879d-1459-40d7-8b26-aff2358477f7",
   "metadata": {},
   "outputs": [
    {
     "data": {
      "text/html": [
       "<div>\n",
       "<style scoped>\n",
       "    .dataframe tbody tr th:only-of-type {\n",
       "        vertical-align: middle;\n",
       "    }\n",
       "\n",
       "    .dataframe tbody tr th {\n",
       "        vertical-align: top;\n",
       "    }\n",
       "\n",
       "    .dataframe thead th {\n",
       "        text-align: right;\n",
       "    }\n",
       "</style>\n",
       "<table border=\"1\" class=\"dataframe\">\n",
       "  <thead>\n",
       "    <tr style=\"text-align: right;\">\n",
       "      <th></th>\n",
       "      <th>Property_ID</th>\n",
       "      <th>Location</th>\n",
       "      <th>Type</th>\n",
       "      <th>Price</th>\n",
       "      <th>Size_SqFt</th>\n",
       "      <th>Bedrooms</th>\n",
       "      <th>Bathrooms</th>\n",
       "      <th>Year_Built</th>\n",
       "    </tr>\n",
       "  </thead>\n",
       "  <tbody>\n",
       "    <tr>\n",
       "      <th>0</th>\n",
       "      <td>P-00001</td>\n",
       "      <td>Chennai</td>\n",
       "      <td>Villa</td>\n",
       "      <td>29865958</td>\n",
       "      <td>2643</td>\n",
       "      <td>1</td>\n",
       "      <td>2</td>\n",
       "      <td>2004</td>\n",
       "    </tr>\n",
       "    <tr>\n",
       "      <th>1</th>\n",
       "      <td>P-00002</td>\n",
       "      <td>Hyderabad</td>\n",
       "      <td>House</td>\n",
       "      <td>42386305</td>\n",
       "      <td>1566</td>\n",
       "      <td>4</td>\n",
       "      <td>3</td>\n",
       "      <td>2007</td>\n",
       "    </tr>\n",
       "  </tbody>\n",
       "</table>\n",
       "</div>"
      ],
      "text/plain": [
       "  Property_ID   Location   Type     Price  Size_SqFt  Bedrooms  Bathrooms  \\\n",
       "0     P-00001    Chennai  Villa  29865958       2643         1          2   \n",
       "1     P-00002  Hyderabad  House  42386305       1566         4          3   \n",
       "\n",
       "   Year_Built  \n",
       "0        2004  \n",
       "1        2007  "
      ]
     },
     "execution_count": 7,
     "metadata": {},
     "output_type": "execute_result"
    }
   ],
   "source": [
    "import pandas as pd\n",
    "import random\n",
    "import datetime\n",
    "from google.cloud import storage\n",
    "from google.oauth2 import service_account\n",
    "\n",
    "# Path to your service account key\n",
    "key_path = r\"D:\\GCP Project Udemy\\Projects Notes for Practise and GIT\\linen-age-447106-e3-ab2fc4a09711.json\"\n",
    "\n",
    "# Use the credentials for authentication\n",
    "credentials = service_account.Credentials.from_service_account_file(key_path)\n",
    "\n",
    "# Initialize the storage client with the credentials\n",
    "client = storage.Client(credentials=credentials, project='your-project-id')\n",
    "\n",
    "# Define synthetic data\n",
    "property_types = [\"Apartment\", \"House\", \"Condo\", \"Townhouse\", \"Villa\", \"Penthouse\", \"Studio\", \"Duplex\"]\n",
    "locations = [\"Mumbai\", \"Delhi\", \"Bangalore\", \"Hyderabad\", \"Chennai\", \"Kolkata\", \"Pune\", \"Ahmedabad\", \"Jaipur\", \"Lucknow\"]\n",
    "\n",
    "# Generate Real Estate Properties Data\n",
    "def generate_real_estate_data(num_records):\n",
    "    data = []\n",
    "    for i in range(1, num_records + 1):\n",
    "        property_id = f\"P-{i:05d}\"\n",
    "        location = random.choice(locations)\n",
    "        property_type = random.choice(property_types)\n",
    "        price = random.randint(1000000, 50000000)  # Price in INR\n",
    "        size_sqft = random.randint(500, 5000)  # Size in square feet\n",
    "        bedrooms = random.randint(1, 6)\n",
    "        bathrooms = random.randint(1, 5)\n",
    "        year_built = random.randint(1970, 2023)\n",
    "\n",
    "        data.append([\n",
    "            property_id, location, property_type, price, size_sqft, bedrooms, bathrooms, year_built\n",
    "        ])\n",
    "\n",
    "    columns = [\"Property_ID\", \"Location\", \"Type\", \"Price\", \"Size_SqFt\", \"Bedrooms\", \"Bathrooms\", \"Year_Built\"]\n",
    "    df = pd.DataFrame(data, columns=columns)\n",
    "    return df\n",
    "\n",
    "# Generate Property Owner Data\n",
    "def generate_owner_data(real_estate_df):\n",
    "    first_names = [\"Arjun\", \"Meera\", \"Ravi\", \"Priya\", \"Vikram\", \"Anjali\", \"Amit\", \"Radhika\", \"Suresh\", \"Neha\"]\n",
    "    last_names = [\"Sharma\", \"Verma\", \"Iyer\", \"Kumar\", \"Patel\", \"Gupta\", \"Rao\", \"Singh\", \"Das\", \"Chauhan\"]\n",
    "\n",
    "    data = []\n",
    "    for i, property_id in enumerate(real_estate_df[\"Property_ID\"], start=1):\n",
    "        owner_id = f\"O-{i:05d}\"\n",
    "        owner_name = f\"{random.choice(first_names)} {random.choice(last_names)}\"\n",
    "        contact_number = f\"+91{random.randint(7000000000, 9999999999)}\"\n",
    "\n",
    "        data.append([owner_id, property_id, owner_name, contact_number])\n",
    "\n",
    "    columns = [\"Owner_ID\", \"Property_ID\", \"Owner_Name\", \"Contact_Number\"]\n",
    "    df = pd.DataFrame(data, columns=columns)\n",
    "    return df\n",
    "\n",
    "\n",
    "\n",
    "# Generate datasets\n",
    "real_estate_df = generate_real_estate_data(15)\n",
    "owner_df = generate_owner_data(real_estate_df)\n",
    "\n",
    "real_estate_df.head(2)"
   ]
  },
  {
   "cell_type": "code",
   "execution_count": 8,
   "id": "39e356d3-7871-4fef-a828-5d032b374a03",
   "metadata": {},
   "outputs": [
    {
     "data": {
      "text/html": [
       "<div>\n",
       "<style scoped>\n",
       "    .dataframe tbody tr th:only-of-type {\n",
       "        vertical-align: middle;\n",
       "    }\n",
       "\n",
       "    .dataframe tbody tr th {\n",
       "        vertical-align: top;\n",
       "    }\n",
       "\n",
       "    .dataframe thead th {\n",
       "        text-align: right;\n",
       "    }\n",
       "</style>\n",
       "<table border=\"1\" class=\"dataframe\">\n",
       "  <thead>\n",
       "    <tr style=\"text-align: right;\">\n",
       "      <th></th>\n",
       "      <th>Owner_ID</th>\n",
       "      <th>Property_ID</th>\n",
       "      <th>Owner_Name</th>\n",
       "      <th>Contact_Number</th>\n",
       "    </tr>\n",
       "  </thead>\n",
       "  <tbody>\n",
       "    <tr>\n",
       "      <th>0</th>\n",
       "      <td>O-00001</td>\n",
       "      <td>P-00001</td>\n",
       "      <td>Meera Iyer</td>\n",
       "      <td>+918228668084</td>\n",
       "    </tr>\n",
       "    <tr>\n",
       "      <th>1</th>\n",
       "      <td>O-00002</td>\n",
       "      <td>P-00002</td>\n",
       "      <td>Anjali Iyer</td>\n",
       "      <td>+917049457261</td>\n",
       "    </tr>\n",
       "  </tbody>\n",
       "</table>\n",
       "</div>"
      ],
      "text/plain": [
       "  Owner_ID Property_ID   Owner_Name Contact_Number\n",
       "0  O-00001     P-00001   Meera Iyer  +918228668084\n",
       "1  O-00002     P-00002  Anjali Iyer  +917049457261"
      ]
     },
     "execution_count": 8,
     "metadata": {},
     "output_type": "execute_result"
    }
   ],
   "source": [
    "owner_df.head(2)"
   ]
  },
  {
   "cell_type": "code",
   "execution_count": 13,
   "id": "04c06d53-f13c-4342-b47d-02584a1ab36f",
   "metadata": {},
   "outputs": [
    {
     "name": "stdout",
     "output_type": "stream",
     "text": [
      "Uploaded real_estate_data.json to project-bucket-for-pipeline/real_estate_data/real_estate_files/2025-01-07\n"
     ]
    }
   ],
   "source": [
    "# Upload DataFrame to GCP bucket\n",
    "def upload_to_gcp(bucket_name, folder_path, file_name, dataframe):\n",
    "    bucket = client.get_bucket(bucket_name)\n",
    "    blob = bucket.blob(f\"{folder_path}/{file_name}\")\n",
    "    blob.upload_from_string(dataframe.to_json(orient=\"records\", lines=True), content_type=\"application/json\")\n",
    "    print(f\"Uploaded {file_name} to {bucket_name}/{folder_path}\")\n",
    "\n",
    "# Create folder with today's date\n",
    "today_date = datetime.datetime.now().strftime(\"%Y-%m-%d\")\n",
    "real_estate_folder = f\"real_estate_data/real_estate_files/{today_date}\"\n",
    "owner_folder = f\"real_estate_data/owners_data_files/{today_date}\"\n",
    "\n",
    "# GCP bucket name\n",
    "bucket_name = \"project-bucket-for-pipeline\"\n",
    "\n",
    "# Upload to GCP\n",
    "upload_to_gcp(bucket_name, real_estate_folder, \"real_estate_data.json\", real_estate_df)\n"
   ]
  },
  {
   "cell_type": "code",
   "execution_count": 12,
   "id": "1850ea2d-f980-4bbf-97a3-05d5df4173eb",
   "metadata": {},
   "outputs": [
    {
     "name": "stdout",
     "output_type": "stream",
     "text": [
      "Uploaded owner_data.json to project-bucket-for-pipeline/real_estate_data/owners_data_files/2025-01-07\n"
     ]
    }
   ],
   "source": [
    "upload_to_gcp(bucket_name, owner_folder, \"owner_data.json\", owner_df)"
   ]
  }
 ],
 "metadata": {
  "kernelspec": {
   "display_name": "Python 3 (ipykernel)",
   "language": "python",
   "name": "python3"
  },
  "language_info": {
   "codemirror_mode": {
    "name": "ipython",
    "version": 3
   },
   "file_extension": ".py",
   "mimetype": "text/x-python",
   "name": "python",
   "nbconvert_exporter": "python",
   "pygments_lexer": "ipython3",
   "version": "3.9.13"
  }
 },
 "nbformat": 4,
 "nbformat_minor": 5
}
